{
  "cells": [
    {
      "cell_type": "code",
      "execution_count": null,
      "metadata": {
        "colab": {
          "base_uri": "https://localhost:8080/"
        },
        "id": "10697e27",
        "outputId": "3415b23a-5aff-4793-a538-ed80b8cc175a"
      },
      "outputs": [
        {
          "output_type": "stream",
          "name": "stdout",
          "text": [
            "Found 4649 images belonging to 4 classes.\n",
            "Found 0 images belonging to 0 classes.\n",
            "Found 1552 images belonging to 4 classes.\n",
            "Downloading data from https://storage.googleapis.com/tensorflow/keras-applications/vgg16/vgg16_weights_tf_dim_ordering_tf_kernels_notop.h5\n",
            "58889256/58889256 [==============================] - 0s 0us/step\n"
          ]
        }
      ],
      "source": [
        "import tensorflow as tf\n",
        "import numpy as np\n",
        "from tensorflow.keras.applications.vgg16 import VGG16\n",
        "from tensorflow.keras.layers import Dense, Flatten, Dropout\n",
        "from tensorflow.keras.models import Model\n",
        "from tensorflow.keras.optimizers import Adam\n",
        "from tensorflow.keras.preprocessing.image import ImageDataGenerator\n",
        "\n",
        "# Set the image size and number of classes\n",
        "IMAGE_SIZE = (224, 224)\n",
        "NUM_CLASSES = 4\n",
        "\n",
        "# Load labeled data\n",
        "labeled_datagen = ImageDataGenerator(\n",
        "    rescale=1./255,\n",
        "    shear_range=0.2,\n",
        "    zoom_range=0.2,\n",
        "    horizontal_flip=True\n",
        ")\n",
        "labeled_train_set = labeled_datagen.flow_from_directory(\n",
        "    '/content/drive/MyDrive/LungXRays-grayscale/train',\n",
        "    target_size=IMAGE_SIZE,\n",
        "    batch_size=32,\n",
        "    class_mode='categorical'\n",
        ")\n",
        "\n",
        "# Load unlabeled data\n",
        "unlabeled_datagen = ImageDataGenerator(rescale=1./255)\n",
        "unlabeled_train_set = unlabeled_datagen.flow_from_directory(\n",
        "    '/content/drive/MyDrive/LungXRays-grayscale/unlabeled',\n",
        "    target_size=IMAGE_SIZE,\n",
        "    batch_size=32,\n",
        "    class_mode=None,\n",
        "    shuffle=False\n",
        ")\n",
        "\n",
        "# Load and prepare the test dataset\n",
        "test_datagen = ImageDataGenerator(rescale=1./255)\n",
        "test_set = test_datagen.flow_from_directory(\n",
        "    '/content/drive/MyDrive/LungXRays-grayscale/test',\n",
        "    target_size=IMAGE_SIZE,\n",
        "    batch_size=32,\n",
        "    class_mode='categorical'\n",
        ")\n",
        "\n",
        "# Create the base VGG16 model\n",
        "base_model = VGG16(\n",
        "    input_shape=(*IMAGE_SIZE, 3),\n",
        "    weights='imagenet',\n",
        "    include_top=False\n",
        ")\n",
        "\n",
        "# Freeze the layers of the pre-trained VGG16 model\n",
        "for layer in base_model.layers:\n",
        "    layer.trainable = False\n",
        "\n",
        "# Add custom classification layers\n",
        "x = base_model.output\n",
        "x = Flatten()(x)\n",
        "x = Dense(256, activation='relu')(x)\n",
        "x = Dropout(0.5)(x)\n",
        "x = Dense(128, activation='relu')(x)\n",
        "x = Dropout(0.5)(x)\n",
        "output = Dense(NUM_CLASSES, activation='softmax')(x)\n",
        "\n",
        "# Create the semi-supervised model\n",
        "model = Model(inputs=base_model.input, outputs=output)\n",
        "\n",
        "# Compile the model\n",
        "model.compile(\n",
        "    loss='categorical_crossentropy',\n",
        "    optimizer=Adam(learning_rate=0.0001),\n",
        "    metrics=['accuracy']\n",
        ")\n",
        "\n"
      ],
      "id": "10697e27"
    },
    {
      "cell_type": "code",
      "execution_count": null,
      "metadata": {
        "colab": {
          "base_uri": "https://localhost:8080/"
        },
        "id": "cjDXYxC2r4Ry",
        "outputId": "b9241c1d-b09e-4e29-ec42-083587ea8e2d"
      },
      "outputs": [
        {
          "output_type": "stream",
          "name": "stdout",
          "text": [
            "Mounted at /content/drive\n"
          ]
        }
      ],
      "source": [
        "from google.colab import drive\n",
        "drive.mount('/content/drive')"
      ],
      "id": "cjDXYxC2r4Ry"
    },
    {
      "cell_type": "code",
      "execution_count": null,
      "metadata": {
        "colab": {
          "base_uri": "https://localhost:8080/"
        },
        "id": "42425eb6",
        "outputId": "46bd34ff-7c44-43bb-d4be-67bcd4ae005d"
      },
      "outputs": [
        {
          "output_type": "stream",
          "name": "stdout",
          "text": [
            "Epoch 1/10\n",
            "50/50 [==============================] - 2040s 40s/step - loss: 1.2777 - accuracy: 0.4269 - val_loss: 0.8018 - val_accuracy: 0.8222\n",
            "Epoch 2/10\n",
            "50/50 [==============================] - 2016s 40s/step - loss: 0.9015 - accuracy: 0.6338 - val_loss: 0.5289 - val_accuracy: 0.8789\n",
            "Epoch 3/10\n",
            "50/50 [==============================] - 1950s 39s/step - loss: 0.7932 - accuracy: 0.6937 - val_loss: 0.4300 - val_accuracy: 0.8898\n",
            "Epoch 4/10\n",
            "50/50 [==============================] - 1950s 39s/step - loss: 0.6859 - accuracy: 0.7292 - val_loss: 0.3931 - val_accuracy: 0.8892\n",
            "Epoch 5/10\n",
            "50/50 [==============================] - 2006s 40s/step - loss: 0.6304 - accuracy: 0.7625 - val_loss: 0.3366 - val_accuracy: 0.9091\n",
            "Epoch 6/10\n",
            "50/50 [==============================] - 1998s 40s/step - loss: 0.5361 - accuracy: 0.8094 - val_loss: 0.3325 - val_accuracy: 0.8905\n",
            "Epoch 7/10\n",
            "50/50 [==============================] - 1957s 39s/step - loss: 0.5330 - accuracy: 0.8022 - val_loss: 0.2589 - val_accuracy: 0.9253\n",
            "Epoch 8/10\n",
            "50/50 [==============================] - 1982s 40s/step - loss: 0.4887 - accuracy: 0.8225 - val_loss: 0.2442 - val_accuracy: 0.9149\n",
            "Epoch 9/10\n",
            "50/50 [==============================] - 1970s 40s/step - loss: 0.4963 - accuracy: 0.8117 - val_loss: 0.2640 - val_accuracy: 0.9188\n",
            "Epoch 10/10\n",
            "50/50 [==============================] - 1941s 39s/step - loss: 0.4635 - accuracy: 0.8331 - val_loss: 0.2072 - val_accuracy: 0.9343\n"
          ]
        },
        {
          "output_type": "execute_result",
          "data": {
            "text/plain": [
              "<keras.src.callbacks.History at 0x787a0317b6a0>"
            ]
          },
          "metadata": {},
          "execution_count": 3
        }
      ],
      "source": [
        "# Train the model on labeled data\n",
        "model.fit(\n",
        "    labeled_train_set,\n",
        "    validation_data=test_set,\n",
        "    steps_per_epoch=50,\n",
        "    epochs=10\n",
        ")\n"
      ],
      "id": "42425eb6"
    },
    {
      "cell_type": "code",
      "execution_count": null,
      "metadata": {
        "id": "92b41c12",
        "outputId": "e9016057-b55b-4695-afea-242296ee3678",
        "colab": {
          "base_uri": "https://localhost:8080/"
        }
      },
      "outputs": [
        {
          "output_type": "stream",
          "name": "stdout",
          "text": [
            "49/49 [==============================] - 946s 19s/step - loss: 0.2072 - accuracy: 0.9343\n",
            "Test Loss: 20.724283158779144\n",
            "Test Accuracy: 93.42783689498901\n"
          ]
        }
      ],
      "source": [
        "# Evaluate the model on test data\n",
        "test_loss, test_accuracy = model.evaluate(test_set)\n",
        "print(\"Test Loss:\", test_loss*100)\n",
        "print(\"Test Accuracy:\", test_accuracy*100)"
      ],
      "id": "92b41c12"
    },
    {
      "cell_type": "code",
      "execution_count": null,
      "metadata": {
        "id": "6573c575",
        "outputId": "dfa613d8-72a7-4528-93df-fdddd092f38c",
        "colab": {
          "base_uri": "https://localhost:8080/",
          "height": 356
        }
      },
      "outputs": [
        {
          "output_type": "error",
          "ename": "ValueError",
          "evalue": "Asked to retrieve element 0, but the Sequence has length 0",
          "traceback": [
            "\u001b[0;31m---------------------------------------------------------------------------\u001b[0m",
            "\u001b[0;31mValueError\u001b[0m                                Traceback (most recent call last)",
            "\u001b[0;32m<ipython-input-6-b294b6711d29>\u001b[0m in \u001b[0;36m<cell line: 2>\u001b[0;34m()\u001b[0m\n\u001b[1;32m      1\u001b[0m \u001b[0;31m# Generate pseudo-labels for unlabeled data\u001b[0m\u001b[0;34m\u001b[0m\u001b[0;34m\u001b[0m\u001b[0m\n\u001b[0;32m----> 2\u001b[0;31m \u001b[0munlabeled_predictions\u001b[0m \u001b[0;34m=\u001b[0m \u001b[0mmodel\u001b[0m\u001b[0;34m.\u001b[0m\u001b[0mpredict\u001b[0m\u001b[0;34m(\u001b[0m\u001b[0munlabeled_train_set\u001b[0m\u001b[0;34m)\u001b[0m\u001b[0;34m\u001b[0m\u001b[0;34m\u001b[0m\u001b[0m\n\u001b[0m\u001b[1;32m      3\u001b[0m \u001b[0mpseudo_labels\u001b[0m \u001b[0;34m=\u001b[0m \u001b[0mnp\u001b[0m\u001b[0;34m.\u001b[0m\u001b[0margmax\u001b[0m\u001b[0;34m(\u001b[0m\u001b[0munlabeled_predictions\u001b[0m\u001b[0;34m,\u001b[0m \u001b[0maxis\u001b[0m\u001b[0;34m=\u001b[0m\u001b[0;36m1\u001b[0m\u001b[0;34m)\u001b[0m\u001b[0;34m\u001b[0m\u001b[0;34m\u001b[0m\u001b[0m\n\u001b[1;32m      4\u001b[0m \u001b[0;34m\u001b[0m\u001b[0m\n\u001b[1;32m      5\u001b[0m \u001b[0;34m\u001b[0m\u001b[0m\n",
            "\u001b[0;32m/usr/local/lib/python3.10/dist-packages/keras/src/utils/traceback_utils.py\u001b[0m in \u001b[0;36merror_handler\u001b[0;34m(*args, **kwargs)\u001b[0m\n\u001b[1;32m     68\u001b[0m             \u001b[0;31m# To get the full stack trace, call:\u001b[0m\u001b[0;34m\u001b[0m\u001b[0;34m\u001b[0m\u001b[0m\n\u001b[1;32m     69\u001b[0m             \u001b[0;31m# `tf.debugging.disable_traceback_filtering()`\u001b[0m\u001b[0;34m\u001b[0m\u001b[0;34m\u001b[0m\u001b[0m\n\u001b[0;32m---> 70\u001b[0;31m             \u001b[0;32mraise\u001b[0m \u001b[0me\u001b[0m\u001b[0;34m.\u001b[0m\u001b[0mwith_traceback\u001b[0m\u001b[0;34m(\u001b[0m\u001b[0mfiltered_tb\u001b[0m\u001b[0;34m)\u001b[0m \u001b[0;32mfrom\u001b[0m \u001b[0;32mNone\u001b[0m\u001b[0;34m\u001b[0m\u001b[0;34m\u001b[0m\u001b[0m\n\u001b[0m\u001b[1;32m     71\u001b[0m         \u001b[0;32mfinally\u001b[0m\u001b[0;34m:\u001b[0m\u001b[0;34m\u001b[0m\u001b[0;34m\u001b[0m\u001b[0m\n\u001b[1;32m     72\u001b[0m             \u001b[0;32mdel\u001b[0m \u001b[0mfiltered_tb\u001b[0m\u001b[0;34m\u001b[0m\u001b[0;34m\u001b[0m\u001b[0m\n",
            "\u001b[0;32m/usr/local/lib/python3.10/dist-packages/keras/src/preprocessing/image.py\u001b[0m in \u001b[0;36m__getitem__\u001b[0;34m(self, idx)\u001b[0m\n\u001b[1;32m    101\u001b[0m     \u001b[0;32mdef\u001b[0m \u001b[0m__getitem__\u001b[0m\u001b[0;34m(\u001b[0m\u001b[0mself\u001b[0m\u001b[0;34m,\u001b[0m \u001b[0midx\u001b[0m\u001b[0;34m)\u001b[0m\u001b[0;34m:\u001b[0m\u001b[0;34m\u001b[0m\u001b[0;34m\u001b[0m\u001b[0m\n\u001b[1;32m    102\u001b[0m         \u001b[0;32mif\u001b[0m \u001b[0midx\u001b[0m \u001b[0;34m>=\u001b[0m \u001b[0mlen\u001b[0m\u001b[0;34m(\u001b[0m\u001b[0mself\u001b[0m\u001b[0;34m)\u001b[0m\u001b[0;34m:\u001b[0m\u001b[0;34m\u001b[0m\u001b[0;34m\u001b[0m\u001b[0m\n\u001b[0;32m--> 103\u001b[0;31m             raise ValueError(\n\u001b[0m\u001b[1;32m    104\u001b[0m                 \u001b[0;34m\"Asked to retrieve element {idx}, \"\u001b[0m\u001b[0;34m\u001b[0m\u001b[0;34m\u001b[0m\u001b[0m\n\u001b[1;32m    105\u001b[0m                 \u001b[0;34m\"but the Sequence \"\u001b[0m\u001b[0;34m\u001b[0m\u001b[0;34m\u001b[0m\u001b[0m\n",
            "\u001b[0;31mValueError\u001b[0m: Asked to retrieve element 0, but the Sequence has length 0"
          ]
        }
      ],
      "source": [
        "\n",
        "# Generate pseudo-labels for unlabeled data\n",
        "unlabeled_predictions = model.predict(unlabeled_train_set)\n",
        "pseudo_labels = np.argmax(unlabeled_predictions, axis=1)\n",
        "\n",
        "\n"
      ],
      "id": "6573c575"
    },
    {
      "cell_type": "code",
      "execution_count": null,
      "metadata": {
        "id": "7633db76"
      },
      "outputs": [],
      "source": [
        "\n",
        "# Add pseudo-labeled samples to the labeled dataset\n",
        "unlabeled_samples = unlabeled_train_set[0][0]\n",
        "unlabeled_labels = tf.keras.utils.to_categorical(pseudo_labels, num_classes=NUM_CLASSES)\n",
        "unlabeled_samples_reshaped = np.reshape(unlabeled_samples, (-1, *IMAGE_SIZE, 3))\n",
        "combined_images = np.concatenate([labeled_train_set[0][0], unlabeled_samples_reshaped])\n",
        "combined_labels = np.concatenate([labeled_train_set[0][1], unlabeled_labels])\n",
        "\n",
        "# Shuffle the combined data\n",
        "combined_data = list(zip(combined_images, combined_labels))\n",
        "np.random.shuffle(combined_data)\n",
        "combined_images, combined_labels = zip(*combined_data)\n",
        "\n",
        "# Convert to numpy arrays\n",
        "combined_images = np.array(combined_images)\n",
        "combined_labels = np.array(combined_labels)\n",
        "\n"
      ],
      "id": "7633db76"
    },
    {
      "cell_type": "code",
      "execution_count": null,
      "metadata": {
        "id": "7d904490",
        "outputId": "48c1b116-0aeb-4e0e-97e9-3769b1c87c2e"
      },
      "outputs": [
        {
          "name": "stdout",
          "output_type": "stream",
          "text": [
            "Epoch 1/20\n",
            "2/2 [==============================] - 107s 104s/step - loss: 0.2369 - accuracy: 0.9091 - val_loss: 0.3119 - val_accuracy: 0.9196\n",
            "Epoch 2/20\n",
            "2/2 [==============================] - 111s 106s/step - loss: 0.1703 - accuracy: 0.8788 - val_loss: 0.3286 - val_accuracy: 0.9144\n",
            "Epoch 3/20\n",
            "2/2 [==============================] - 110s 105s/step - loss: 0.2504 - accuracy: 0.9394 - val_loss: 0.3686 - val_accuracy: 0.9066\n",
            "Epoch 4/20\n",
            "2/2 [==============================] - 110s 106s/step - loss: 0.1360 - accuracy: 0.9091 - val_loss: 0.4268 - val_accuracy: 0.8859\n",
            "Epoch 5/20\n",
            "2/2 [==============================] - 108s 104s/step - loss: 0.1235 - accuracy: 0.9697 - val_loss: 0.4974 - val_accuracy: 0.8534\n",
            "Epoch 6/20\n",
            "2/2 [==============================] - 109s 105s/step - loss: 0.1404 - accuracy: 0.9394 - val_loss: 0.5551 - val_accuracy: 0.8418\n",
            "Epoch 7/20\n",
            "2/2 [==============================] - 110s 106s/step - loss: 0.0728 - accuracy: 1.0000 - val_loss: 0.6139 - val_accuracy: 0.8119\n",
            "Epoch 8/20\n",
            "2/2 [==============================] - 110s 105s/step - loss: 0.1069 - accuracy: 0.9697 - val_loss: 0.5863 - val_accuracy: 0.8314\n",
            "Epoch 9/20\n",
            "2/2 [==============================] - 110s 105s/step - loss: 0.1421 - accuracy: 0.9394 - val_loss: 0.5045 - val_accuracy: 0.8534\n",
            "Epoch 10/20\n",
            "2/2 [==============================] - 110s 106s/step - loss: 0.1367 - accuracy: 0.9394 - val_loss: 0.4691 - val_accuracy: 0.8651\n",
            "Epoch 11/20\n",
            "2/2 [==============================] - 110s 106s/step - loss: 0.2091 - accuracy: 0.9394 - val_loss: 0.4565 - val_accuracy: 0.8677\n",
            "Epoch 12/20\n",
            "2/2 [==============================] - 110s 105s/step - loss: 0.1504 - accuracy: 0.9091 - val_loss: 0.4921 - val_accuracy: 0.8573\n",
            "Epoch 13/20\n",
            "2/2 [==============================] - 110s 105s/step - loss: 0.1191 - accuracy: 0.9394 - val_loss: 0.5830 - val_accuracy: 0.8366\n",
            "Epoch 14/20\n",
            "2/2 [==============================] - 110s 106s/step - loss: 0.0440 - accuracy: 1.0000 - val_loss: 0.6928 - val_accuracy: 0.8029\n",
            "Epoch 15/20\n",
            "2/2 [==============================] - 111s 107s/step - loss: 0.1340 - accuracy: 0.9697 - val_loss: 0.7914 - val_accuracy: 0.7756\n",
            "Epoch 16/20\n",
            "2/2 [==============================] - 113s 108s/step - loss: 0.0747 - accuracy: 0.9697 - val_loss: 0.8634 - val_accuracy: 0.7536\n",
            "Epoch 17/20\n",
            "2/2 [==============================] - 109s 105s/step - loss: 0.0636 - accuracy: 0.9697 - val_loss: 0.9215 - val_accuracy: 0.7497\n",
            "Epoch 18/20\n",
            "2/2 [==============================] - 111s 106s/step - loss: 0.1686 - accuracy: 0.9394 - val_loss: 0.9456 - val_accuracy: 0.7484\n",
            "Epoch 19/20\n",
            "2/2 [==============================] - 110s 106s/step - loss: 0.0695 - accuracy: 0.9697 - val_loss: 0.9488 - val_accuracy: 0.7484\n",
            "Epoch 20/20\n",
            "2/2 [==============================] - 125s 121s/step - loss: 0.1615 - accuracy: 0.9394 - val_loss: 0.9009 - val_accuracy: 0.7575\n"
          ]
        },
        {
          "data": {
            "text/plain": [
              "<keras.callbacks.History at 0x128c57340>"
            ]
          },
          "execution_count": 18,
          "metadata": {},
          "output_type": "execute_result"
        }
      ],
      "source": [
        "# Train the model on combined labeled and pseudo-labeled data\n",
        "model.fit(\n",
        "    combined_images,\n",
        "    combined_labels,\n",
        "    validation_data=test_set,\n",
        "    epochs=20\n",
        ")"
      ],
      "id": "7d904490"
    },
    {
      "cell_type": "code",
      "execution_count": null,
      "metadata": {
        "id": "264ac00e",
        "outputId": "e55b5d45-53aa-43b0-adc0-ae2195fc2f5f"
      },
      "outputs": [
        {
          "name": "stdout",
          "output_type": "stream",
          "text": [
            "25/25 [==============================] - 106s 4s/step - loss: 0.3172 - accuracy: 0.9157\n",
            "Test Loss: 0.317180871963501\n",
            "Test Accuracy: 91.56938791275024\n"
          ]
        }
      ],
      "source": [
        "# Evaluate the model on test data\n",
        "test_loss, test_accuracy = model.evaluate(test_set)\n",
        "print(\"Test Loss:\", test_loss)\n",
        "print(\"Test Accuracy:\", test_accuracy*100)\n"
      ],
      "id": "264ac00e"
    },
    {
      "cell_type": "code",
      "execution_count": null,
      "metadata": {
        "id": "4d9fcbfc"
      },
      "outputs": [],
      "source": [
        "# Example image prediction\n",
        "img_path = '/Users/praveenmahan/Desktop/sunny/train/pneumonia/person7_bacteria_24.jpeg'\n",
        "img = tf.keras.preprocessing.image.load_img(img_path, target_size=(224, 224))\n",
        "x = tf.keras.preprocessing.image.img_to_array(img)\n",
        "x = np.expand_dims(x, axis=0)\n",
        "x = tf.keras.applications.vgg19.preprocess_input(x)"
      ],
      "id": "4d9fcbfc"
    },
    {
      "cell_type": "code",
      "execution_count": null,
      "metadata": {
        "id": "d4fa1b1e",
        "outputId": "837a6389-1afd-4d9a-dd38-f1c2ad4e6d35"
      },
      "outputs": [
        {
          "name": "stdout",
          "output_type": "stream",
          "text": [
            "1/1 [==============================] - 0s 138ms/step\n"
          ]
        }
      ],
      "source": [
        "# Predict the class of the image\n",
        "class_probs = model.predict(x)"
      ],
      "id": "d4fa1b1e"
    },
    {
      "cell_type": "code",
      "execution_count": null,
      "metadata": {
        "id": "5a49a40c",
        "outputId": "0840d799-9351-4f28-a0bb-a89757031c4b"
      },
      "outputs": [
        {
          "name": "stdout",
          "output_type": "stream",
          "text": [
            "Pneumonia\n"
          ]
        }
      ],
      "source": [
        "# Define class labels\n",
        "class_labels = ['Corona Virus Disease', 'Normal', 'Pneumonia', 'Tuberculosis']\n",
        "predicted_class_index = np.argmax(class_probs)\n",
        "predicted_class_label = class_labels[predicted_class_index]\n",
        "print(predicted_class_label)"
      ],
      "id": "5a49a40c"
    },
    {
      "cell_type": "code",
      "execution_count": null,
      "metadata": {
        "id": "81891e51",
        "outputId": "8a1174b1-3627-4583-d5dd-46e528c8ae77"
      },
      "outputs": [
        {
          "name": "stdout",
          "output_type": "stream",
          "text": [
            "1/1 [==============================] - 1s 785ms/step\n",
            "Corona Virus Disease\n"
          ]
        }
      ],
      "source": [
        "# Example image prediction\n",
        "img_path = '/Users/praveenmahan/Desktop/untrain/1/COVID19(385).jpg'\n",
        "img = tf.keras.preprocessing.image.load_img(img_path, target_size=(224, 224))\n",
        "x = tf.keras.preprocessing.image.img_to_array(img)\n",
        "x = np.expand_dims(x, axis=0)\n",
        "x = tf.keras.applications.vgg19.preprocess_input(x)\n",
        "# Predict the class of the image\n",
        "class_probs = model.predict(x)\n",
        "# Define class labels\n",
        "class_labels = ['Corona Virus Disease', 'Normal', 'Pneumonia', 'Tuberculosis']\n",
        "predicted_class_index = np.argmax(class_probs)\n",
        "predicted_class_label = class_labels[predicted_class_index]\n",
        "print(predicted_class_label)"
      ],
      "id": "81891e51"
    },
    {
      "cell_type": "code",
      "execution_count": null,
      "metadata": {
        "id": "d5cad123",
        "outputId": "dcac8fc3-a13a-4aa8-f1cb-42863fb30ce6"
      },
      "outputs": [
        {
          "name": "stdout",
          "output_type": "stream",
          "text": [
            "1/1 [==============================] - 1s 517ms/step\n",
            "Tuberculosis\n"
          ]
        }
      ],
      "source": [
        "# Example image prediction\n",
        "img_path = '/Users/praveenmahan/Desktop/tb.png'\n",
        "img = tf.keras.preprocessing.image.load_img(img_path, target_size=(224, 224))\n",
        "x = tf.keras.preprocessing.image.img_to_array(img)\n",
        "x = np.expand_dims(x, axis=0)\n",
        "x = tf.keras.applications.vgg19.preprocess_input(x)\n",
        "# Predict the class of the image\n",
        "class_probs = model.predict(x)\n",
        "# Define class labels\n",
        "class_labels = ['Corona Virus Disease', 'Normal', 'Pneumonia', 'Tuberculosis']\n",
        "predicted_class_index = np.argmax(class_probs)\n",
        "predicted_class_label = class_labels[predicted_class_index]\n",
        "print(predicted_class_label)"
      ],
      "id": "d5cad123"
    },
    {
      "cell_type": "code",
      "execution_count": null,
      "metadata": {
        "id": "50e4915b",
        "outputId": "b2157504-aa54-40ed-8ef5-0448ee9552ce"
      },
      "outputs": [
        {
          "name": "stdout",
          "output_type": "stream",
          "text": [
            "1/1 [==============================] - 1s 755ms/step\n",
            "Pneumonia\n"
          ]
        }
      ],
      "source": [
        "# Example image prediction\n",
        "img_path = '/Users/praveenmahan/Desktop/mp/val/PNEUMONIA/person1947_bacteria_4876.jpeg'\n",
        "img = tf.keras.preprocessing.image.load_img(img_path, target_size=(224, 224))\n",
        "x = tf.keras.preprocessing.image.img_to_array(img)\n",
        "x = np.expand_dims(x, axis=0)\n",
        "x = tf.keras.applications.vgg19.preprocess_input(x)\n",
        "# Predict the class of the image\n",
        "class_probs = model.predict(x)\n",
        "# Define class labels\n",
        "class_labels = ['Corona Virus Disease', 'Normal', 'Pneumonia', 'Tuberculosis']\n",
        "predicted_class_index = np.argmax(class_probs)\n",
        "predicted_class_label = class_labels[predicted_class_index]\n",
        "print(predicted_class_label)"
      ],
      "id": "50e4915b"
    },
    {
      "cell_type": "code",
      "execution_count": null,
      "metadata": {
        "id": "04d5cdda"
      },
      "outputs": [],
      "source": [],
      "id": "04d5cdda"
    }
  ],
  "metadata": {
    "colab": {
      "provenance": []
    },
    "kernelspec": {
      "display_name": "Python 3 (ipykernel)",
      "language": "python",
      "name": "python3"
    },
    "language_info": {
      "codemirror_mode": {
        "name": "ipython",
        "version": 3
      },
      "file_extension": ".py",
      "mimetype": "text/x-python",
      "name": "python",
      "nbconvert_exporter": "python",
      "pygments_lexer": "ipython3",
      "version": "3.10.9"
    }
  },
  "nbformat": 4,
  "nbformat_minor": 5
}